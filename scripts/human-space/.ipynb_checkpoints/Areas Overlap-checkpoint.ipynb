{
 "cells": [
  {
   "cell_type": "code",
   "execution_count": 1,
   "id": "magnetic-details",
   "metadata": {},
   "outputs": [],
   "source": [
    "import trimesh         # pip install trimesh\n",
    "import citrix          # clone https://github.com/gagdiez/citrix\n",
    "import nibabel as nib  # pip install nibabel\n",
    "import numpy as np     # conda install numpy\n",
    "import nimesh          # pip install numpy\n",
    "import seaborn as sns  # conda install seaborn\n",
    "\n",
    "from glob import glob\n",
    "from collections import defaultdict"
   ]
  },
  {
   "cell_type": "markdown",
   "id": "olive-remove",
   "metadata": {},
   "source": [
    "### MNI (ICBM152 asym 9c) Pial Surface"
   ]
  },
  {
   "cell_type": "code",
   "execution_count": 2,
   "id": "conventional-american",
   "metadata": {},
   "outputs": [],
   "source": [
    "icbm_nimesh = nimesh.io.load(f'../../results/human-comparison/MNI-reconstructed-surfaces/lh.midthicknes.surf.gii')"
   ]
  },
  {
   "cell_type": "markdown",
   "id": "leading-baseball",
   "metadata": {},
   "source": [
    "### Human BA44"
   ]
  },
  {
   "cell_type": "code",
   "execution_count": 3,
   "id": "thermal-messenger",
   "metadata": {},
   "outputs": [],
   "source": [
    "human44 = citrix.load(f'../../results/human-comparison/broca-ROIs/human.lh.BA44.func.gii').function_data"
   ]
  },
  {
   "cell_type": "markdown",
   "id": "recognized-yellow",
   "metadata": {},
   "source": [
    "### Chimp BA44"
   ]
  },
  {
   "cell_type": "code",
   "execution_count": 4,
   "id": "qualified-camping",
   "metadata": {},
   "outputs": [],
   "source": [
    "chimp44 = citrix.load(f'../../results/human-comparison/broca-ROIs/chimp.lh.BA44.func.gii').function_data"
   ]
  },
  {
   "cell_type": "markdown",
   "id": "ready-caribbean",
   "metadata": {},
   "source": [
    "### Clos"
   ]
  },
  {
   "cell_type": "code",
   "execution_count": 5,
   "id": "endangered-custody",
   "metadata": {},
   "outputs": [],
   "source": [
    "clos = []\n",
    "\n",
    "for i in range(1,6):\n",
    "    clos += [citrix.load(f'../../results/human-comparison/functional-ROIs/clos_2013_c{i}.func.gii').function_data > 0]"
   ]
  },
  {
   "cell_type": "markdown",
   "id": "eight-cursor",
   "metadata": {},
   "source": [
    "### Papitto Action Syntax"
   ]
  },
  {
   "cell_type": "code",
   "execution_count": 6,
   "id": "twenty-mortality",
   "metadata": {},
   "outputs": [],
   "source": [
    "papitto = citrix.load(f'../../results/human-comparison/functional-ROIs/papitto_action.func.gii').function_data > 0"
   ]
  },
  {
   "cell_type": "markdown",
   "id": "accomplished-cargo",
   "metadata": {},
   "source": [
    "### Area Overlap"
   ]
  },
  {
   "cell_type": "code",
   "execution_count": 7,
   "id": "referenced-slovenia",
   "metadata": {},
   "outputs": [],
   "source": [
    "def area_of(mask, surface=icbm_nimesh):\n",
    "    vertices = mask.nonzero()[0]\n",
    "    triangles = [t for t in surface.triangles.tolist() if all([p in vertices for p in t])]\n",
    "    submesh = trimesh.Trimesh(vertices=surface.vertices, faces=triangles)\n",
    "    return submesh.area"
   ]
  },
  {
   "cell_type": "code",
   "execution_count": 8,
   "id": "infrared-juvenile",
   "metadata": {},
   "outputs": [],
   "source": [
    "def area_of_intersection(mask_A, mask_B, surface=icbm_nimesh):\n",
    "    intersection = np.bitwise_and(mask_A, mask_B)\n",
    "    return area_of(intersection, surface)"
   ]
  },
  {
   "cell_type": "markdown",
   "id": "incomplete-sleeve",
   "metadata": {},
   "source": [
    "### Pappitto and Clos (K=5) vs Chimp BA44\n",
    "\n",
    "Compute the overlap between functional regions and the (projected) left chimpanzee BA44 at different thresholds.\n",
    "\n",
    "Please notice that only the chimpanze BA44 is being thresholded, and not the functional areas, since in all the cited studies the functional areas where used unthresholded."
   ]
  },
  {
   "cell_type": "code",
   "execution_count": 9,
   "id": "blessed-bailey",
   "metadata": {
    "scrolled": true
   },
   "outputs": [
    {
     "name": "stdout",
     "output_type": "stream",
     "text": [
      "Threshold: 0.0\n",
      "Overlap with Papitto: 0.3233562243478834\n",
      "Overlap with Clos-1:  0.9574729171858508\n",
      "Overlap with Clos-2:  0.4865757626984088\n",
      "Overlap with Clos-3:  0.36396106382401694\n",
      "Overlap with Clos-4:  0.6614353135990809\n",
      "Overlap with Clos-5:  0.7869884811131547\n",
      "\n",
      "Threshold: 0.11111111\n",
      "Overlap with Papitto: 0.27030968181240933\n",
      "Overlap with Clos-1:  0.4450783628384575\n",
      "Overlap with Clos-2:  0.27933731256159094\n",
      "Overlap with Clos-3:  0.2271234902564114\n",
      "Overlap with Clos-4:  0.48788620037262687\n",
      "Overlap with Clos-5:  0.49885111635989937\n",
      "\n",
      "Threshold: 0.22222222\n",
      "Overlap with Papitto: 0.230614310982103\n",
      "Overlap with Clos-1:  0.3395531289941998\n",
      "Overlap with Clos-2:  0.21795105475318124\n",
      "Overlap with Clos-3:  0.12370314443600886\n",
      "Overlap with Clos-4:  0.4182040621344449\n",
      "Overlap with Clos-5:  0.3315497890435435\n",
      "\n",
      "Threshold: 0.33333334\n",
      "Overlap with Papitto: 0.18859234019708193\n",
      "Overlap with Clos-1:  0.29106740541174925\n",
      "Overlap with Clos-2:  0.10692607496186636\n",
      "Overlap with Clos-3:  0.07574070182554632\n",
      "Overlap with Clos-4:  0.38032518585477343\n",
      "Overlap with Clos-5:  0.24149585080211414\n",
      "\n",
      "Threshold: 0.44444445\n",
      "Overlap with Papitto: 0.15048124831704282\n",
      "Overlap with Clos-1:  0.22063613280823424\n",
      "Overlap with Clos-2:  0.0500596718084357\n",
      "Overlap with Clos-3:  0.04864667496602867\n",
      "Overlap with Clos-4:  0.3251394674872688\n",
      "Overlap with Clos-5:  0.1710789144215277\n",
      "\n",
      "Threshold: 0.5555556\n",
      "Overlap with Papitto: 0.11594169560940268\n",
      "Overlap with Clos-1:  0.1624109255994651\n",
      "Overlap with Clos-2:  0.01650098989283796\n",
      "Overlap with Clos-3:  0.03041110631589106\n",
      "Overlap with Clos-4:  0.2631059261068652\n",
      "Overlap with Clos-5:  0.10759250455013737\n",
      "\n",
      "Threshold: 0.6666667\n",
      "Overlap with Papitto: 0.08986665772494232\n",
      "Overlap with Clos-1:  0.06246287672184105\n",
      "Overlap with Clos-2:  0.005186835006560796\n",
      "Overlap with Clos-3:  0.007116478689624368\n",
      "Overlap with Clos-4:  0.15818376507840032\n",
      "Overlap with Clos-5:  0.012023113695676508\n",
      "\n",
      "Threshold: 0.7777778\n",
      "Overlap with Papitto: 0.016951217171492214\n",
      "Overlap with Clos-1:  0.00715489156530469\n",
      "Overlap with Clos-2:  0.0\n",
      "Overlap with Clos-3:  0.002048732013491231\n",
      "Overlap with Clos-4:  0.03472128831877171\n",
      "Overlap with Clos-5:  0.0\n",
      "\n"
     ]
    }
   ],
   "source": [
    "papitto_overlap = []\n",
    "closs_overlap = defaultdict(list)\n",
    "\n",
    "for c_threshold in np.unique(chimp44)[:-2]:\n",
    "\n",
    "    # Treshold Chimpanzee BA44\n",
    "    print(\"Threshold:\", c_threshold)\n",
    "    chimp_44_thr = chimp44 > c_threshold\n",
    "    chimp_area = area_of(chimp_44_thr)\n",
    "\n",
    "    # Compute Area of Intersection between BA44_thr and Papitto\n",
    "    intersection_area = area_of_intersection(chimp_44_thr, papitto)\n",
    "    papitto_area = area_of(papitto)\n",
    "    papitto_overlap.append(intersection_area / papitto_area)\n",
    "\n",
    "    print(f\"Overlap with Papitto:\", intersection_area / papitto_area)\n",
    "\n",
    "    for i in range(0, 5):\n",
    "        intersection_area = area_of_intersection(chimp_44_thr, clos[i])\n",
    "        closs_area = area_of(clos[i])\n",
    "\n",
    "        closs_overlap[i].append(intersection_area / closs_area)\n",
    "\n",
    "        print(f\"Overlap with Clos-{i+1}: \", intersection_area / closs_area)\n",
    "\n",
    "    print()"
   ]
  },
  {
   "cell_type": "markdown",
   "id": "9c233332",
   "metadata": {},
   "source": [
    "## Plot"
   ]
  },
  {
   "cell_type": "code",
   "execution_count": 10,
   "id": "relevant-disposal",
   "metadata": {},
   "outputs": [],
   "source": [
    "from matplotlib import pyplot as plt"
   ]
  },
  {
   "cell_type": "code",
   "execution_count": 11,
   "id": "korean-complement",
   "metadata": {},
   "outputs": [
    {
     "data": {
      "image/png": "[encoded data removed]",
      "text/plain": [
       "<Figure size 432x288 with 1 Axes>"
      ]
     },
     "metadata": {
      "needs_background": "light"
     },
     "output_type": "display_data"
    }
   ],
   "source": [
    "thresholds = (np.unique(chimp44)[:-2] * 100).round()\n",
    "\n",
    "sns.set(font_scale=1.2)\n",
    "sns.set_style(\"darkgrid\")\n",
    "sns.lineplot(x=thresholds, y=np.multiply(papitto_overlap, 100), label=\"Papitto\")\n",
    "sns.lineplot(x=thresholds, y=np.multiply(closs_overlap[0],100), label=\"Clos 1\")\n",
    "sns.lineplot(x=thresholds, y=np.multiply(closs_overlap[1],100), label=\"Clos 2\")\n",
    "sns.lineplot(x=thresholds, y=np.multiply(closs_overlap[2],100), label=\"Clos 3\")\n",
    "sns.lineplot(x=thresholds, y=np.multiply(closs_overlap[3],100), label=\"Clos 4\")\n",
    "sns.lineplot(x=thresholds, y=np.multiply(closs_overlap[4],100), label=\"Clos 5\")\n",
    "\n",
    "\n",
    "plt.xlabel(\"BA44 Probabilistic Atlas Threshold [%]\")\n",
    "plt.ylabel(\"Overlap [%]\")\n",
    "plt.ylim(0, 100)\n",
    "plt.xlim(0, thresholds.max())\n",
    "\n",
    "plt.vlines(50, 0, 100, linestyle='dotted', color=\"gray\")\n",
    "\n",
    "plt.savefig('./SFig.pdf')"
   ]
  }
 ],
 "metadata": {
  "kernelspec": {
   "display_name": "Python 3 (ipykernel)",
   "language": "python",
   "name": "python3"
  },
  "language_info": {
   "codemirror_mode": {
    "name": "ipython",
    "version": 3
   },
   "file_extension": ".py",
   "mimetype": "text/x-python",
   "name": "python",
   "nbconvert_exporter": "python",
   "pygments_lexer": "ipython3",
   "version": "3.9.12"
  }
 },
 "nbformat": 4,
 "nbformat_minor": 5
}
